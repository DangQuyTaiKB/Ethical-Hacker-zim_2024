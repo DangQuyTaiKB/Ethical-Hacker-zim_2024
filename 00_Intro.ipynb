{
 "cells": [
  {
   "cell_type": "markdown",
   "metadata": {},
   "source": [
    "## The Fictional Companies in the Ethical Hacker Course\n",
    "\n",
    "<img src=\"images/00_Intro/img1.png\" alt=\"Fictional Companies\" style=\"width: 320px; height: 400px;\"/>\n",
    "\n",
    "## What Will I Learn in This Course?\n",
    "\n",
    "Offensive security professionals like ethical hackers and penetration testers can help proactively discover unknown threats and address \n",
    "them before the cybercriminals do. \n",
    "- This course is designed to prepare you with an Ethical Hacker skillset and give you a solid understanding of offensive security. You will \n",
    "become proficient in the art of scoping, executing, and reporting on vulnerability assessments, while recommending mitigation strategies. \n",
    "- After completing this course, continue your cybersecurity career in offensive security (red team) as an ethical hacker or penetration \n",
    "tester. Or use this course to strengthen your defensive security (blue team) knowledge. By understanding the mindset of threat actors, \n",
    "you will be able to more effectively implement security controls and monitor, analyze, and respond to current security threats.\n",
    "- In this course, you will explore and apply various tools and techniques within a controlled, \"sandboxed\" Ethical Hacker Kali Linux virtual machine environment to simulate cyber-attacks and discover, assess, and exploit built-in vulnerabilities.\n",
    "\n",
    "<img src=\"images/00_Intro/img2.png\" alt=\"What Will I Learn in This Course?\" style=\"width: 600px; height: 400px;\"/>\n"
   ]
  }
 ],
 "metadata": {
  "language_info": {
   "name": "python"
  }
 },
 "nbformat": 4,
 "nbformat_minor": 2
}
